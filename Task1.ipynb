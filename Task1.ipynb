{
  "nbformat": 4,
  "nbformat_minor": 0,
  "metadata": {
    "colab": {
      "provenance": []
    },
    "kernelspec": {
      "name": "python3",
      "display_name": "Python 3"
    },
    "language_info": {
      "name": "python"
    }
  },
  "cells": [
    {
      "cell_type": "code",
      "execution_count": 1,
      "metadata": {
        "colab": {
          "base_uri": "https://localhost:8080/"
        },
        "id": "-8etV88kljkw",
        "outputId": "d4ab498d-3f0a-472f-ff6e-3a74ebfcc7b1"
      },
      "outputs": [
        {
          "output_type": "stream",
          "name": "stdout",
          "text": [
            "Initial List: [1, 2, 3, 4, 5]\n",
            "After Adding an element to List: [1, 2, 3, 4, 5, 6]\n",
            "After Removing an element from List: [1, 2, 4, 5, 6]\n",
            "After Modifying an element in List: [1, 2, 10, 5, 6]\n",
            "\n",
            "Initial Dictionary: {'name': 'Alice', 'age': 25, 'city': 'New York'}\n",
            "After Adding a key-value pair to Dictionary: {'name': 'Alice', 'age': 25, 'city': 'New York', 'profession': 'Engineer'}\n",
            "After Removing a key-value pair from Dictionary: {'name': 'Alice', 'age': 25, 'profession': 'Engineer'}\n",
            "After Modifying a value in Dictionary: {'name': 'Alice', 'age': 26, 'profession': 'Engineer'}\n",
            "\n",
            "Initial Set: {1, 2, 3, 4, 5}\n",
            "After Adding an element to Set: {1, 2, 3, 4, 5, 6}\n",
            "After Removing an element from Set: {1, 2, 3, 5, 6}\n"
          ]
        }
      ],
      "source": [
        "# Creating a list\n",
        "my_list = [1, 2, 3, 4, 5]\n",
        "print(\"Initial List:\", my_list)\n",
        "\n",
        "# Adding an element to the list\n",
        "my_list.append(6)\n",
        "print(\"After Adding an element to List:\", my_list)\n",
        "\n",
        "# Removing an element from the list\n",
        "my_list.remove(3)\n",
        "print(\"After Removing an element from List:\", my_list)\n",
        "\n",
        "# Modifying an element in the list\n",
        "my_list[2] = 10\n",
        "print(\"After Modifying an element in List:\", my_list)\n",
        "\n",
        "\n",
        "# Creating a dictionary\n",
        "my_dict = {'name': 'Alice', 'age': 25, 'city': 'New York'}\n",
        "print(\"\\nInitial Dictionary:\", my_dict)\n",
        "\n",
        "# Adding a key-value pair to the dictionary\n",
        "my_dict['profession'] = 'Engineer'\n",
        "print(\"After Adding a key-value pair to Dictionary:\", my_dict)\n",
        "\n",
        "# Removing a key-value pair from the dictionary\n",
        "del my_dict['city']\n",
        "print(\"After Removing a key-value pair from Dictionary:\", my_dict)\n",
        "\n",
        "# Modifying a value in the dictionary\n",
        "my_dict['age'] = 26\n",
        "print(\"After Modifying a value in Dictionary:\", my_dict)\n",
        "\n",
        "\n",
        "# Creating a set\n",
        "my_set = {1, 2, 3, 4, 5}\n",
        "print(\"\\nInitial Set:\", my_set)\n",
        "\n",
        "# Adding an element to the set\n",
        "my_set.add(6)\n",
        "print(\"After Adding an element to Set:\", my_set)\n",
        "\n",
        "# Removing an element from the set\n",
        "my_set.remove(4)\n",
        "print(\"After Removing an element from Set:\", my_set)\n",
        "\n",
        "# Sets cannot be directly modified in the same way as lists or dictionaries,\n",
        "# but you can perform set operations like union, intersection, etc.\n"
      ]
    }
  ]
}